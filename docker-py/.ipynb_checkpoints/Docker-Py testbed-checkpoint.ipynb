{
 "metadata": {
  "name": ""
 },
 "nbformat": 3,
 "nbformat_minor": 0,
 "worksheets": [
  {
   "cells": [
    {
     "cell_type": "raw",
     "metadata": {},
     "source": [
      "RTFM: https://github.com/docker/docker-py/blob/master/docs/api.md\n",
      "Start some Dockers on your machine and..."
     ]
    },
    {
     "cell_type": "code",
     "collapsed": false,
     "input": [
      "from docker import Client\n",
      "c = Client(base_url='unix://var/run/docker.sock', version='1.14')"
     ],
     "language": "python",
     "metadata": {},
     "outputs": [],
     "prompt_number": 1
    },
    {
     "cell_type": "code",
     "collapsed": false,
     "input": [
      "c.info()"
     ],
     "language": "python",
     "metadata": {},
     "outputs": [
      {
       "metadata": {},
       "output_type": "pyout",
       "prompt_number": 2,
       "text": [
        "{u'Containers': 3,\n",
        " u'Debug': 0,\n",
        " u'Driver': u'aufs',\n",
        " u'DriverStatus': [[u'Root Dir', u'/var/lib/docker/aufs'], [u'Dirs', u'179']],\n",
        " u'ExecutionDriver': u'native-0.2',\n",
        " u'IPv4Forwarding': 1,\n",
        " u'Images': 173,\n",
        " u'IndexServerAddress': u'https://index.docker.io/v1/',\n",
        " u'InitPath': u'/usr/bin/docker',\n",
        " u'InitSha1': u'',\n",
        " u'KernelVersion': u'3.13.0-37-generic',\n",
        " u'MemoryLimit': 1,\n",
        " u'NEventsListener': 0,\n",
        " u'NFd': 26,\n",
        " u'NGoroutines': 40,\n",
        " u'OperatingSystem': u'Ubuntu 14.04.1 LTS',\n",
        " u'SwapLimit': 0}"
       ]
      }
     ],
     "prompt_number": 2
    },
    {
     "cell_type": "code",
     "collapsed": false,
     "input": [
      "c.containers()"
     ],
     "language": "python",
     "metadata": {},
     "outputs": [
      {
       "metadata": {},
       "output_type": "pyout",
       "prompt_number": 3,
       "text": [
        "[{u'Command': u\"/bin/bash -c 'cd /tmp/glances; git checkout feature/issue418; git pull; python -m glances -s'\",\n",
        "  u'Created': 1415222159,\n",
        "  u'Id': u'f92914ec178869229b4e7449023b91d857d1567cb290e75787d5a86c9d28eebc',\n",
        "  u'Image': u'nicolargo/glances-develop-from-git:latest',\n",
        "  u'Names': [u'/clever_darwin'],\n",
        "  u'Ports': [],\n",
        "  u'Status': u'Up 11 minutes'},\n",
        " {u'Command': u\"/bin/bash -c 'cd /tmp/glances; git checkout feature/issue418; git pull; python -m glances -s'\",\n",
        "  u'Created': 1415222139,\n",
        "  u'Id': u'c5d869d496c988ad3cd6dd9877c5166e42b614d32def7a57bbe1532a7663038f',\n",
        "  u'Image': u'nicolargo/glances-develop-from-git:latest',\n",
        "  u'Names': [u'/focused_stallman'],\n",
        "  u'Ports': [],\n",
        "  u'Status': u'Up 11 minutes'}]"
       ]
      }
     ],
     "prompt_number": 3
    },
    {
     "cell_type": "code",
     "collapsed": false,
     "input": [
      "c.top('clever_darwin')"
     ],
     "language": "python",
     "metadata": {},
     "outputs": [
      {
       "metadata": {},
       "output_type": "pyout",
       "prompt_number": 6,
       "text": [
        "{u'Processes': [[u'root',\n",
        "   u'5774',\n",
        "   u'2257',\n",
        "   u'0',\n",
        "   u'22:15',\n",
        "   u'pts/16',\n",
        "   u'00:00:00',\n",
        "   u'/bin/bash -c cd /tmp/glances; git checkout feature/issue418; git pull; python -m glances -s'],\n",
        "  [u'root',\n",
        "   u'5840',\n",
        "   u'5774',\n",
        "   u'0',\n",
        "   u'22:16',\n",
        "   u'pts/16',\n",
        "   u'00:00:04',\n",
        "   u'python -m glances -s']],\n",
        " u'Titles': [u'UID', u'PID', u'PPID', u'C', u'STIME', u'TTY', u'TIME', u'CMD']}"
       ]
      }
     ],
     "prompt_number": 6
    },
    {
     "cell_type": "code",
     "collapsed": false,
     "input": [
      "c.logs('clever_darwin')"
     ],
     "language": "python",
     "metadata": {},
     "outputs": [
      {
       "metadata": {},
       "output_type": "pyout",
       "prompt_number": 8,
       "text": [
        "\"eature/issue418 set up to track remote branch feature/issue418 from origin.\\r\\nSwitched to a new branch 'feature/issue418'\\r\\nAlready up-to-date.\\r\\nAnnounce the Glances server on the local area network (using 172.17.0.24 IP address)\\r\\nGlances server is running on 0.0.0.0:61209\\r\\n\""
       ]
      }
     ],
     "prompt_number": 8
    },
    {
     "cell_type": "code",
     "collapsed": false,
     "input": [],
     "language": "python",
     "metadata": {},
     "outputs": []
    }
   ],
   "metadata": {}
  }
 ]
}