{
 "cells": [
  {
   "cell_type": "markdown",
   "metadata": {},
   "source": [
    "# Test bed\n",
    "\n",
    "In a console run: \n",
    "\n",
    "$ docker run -p 127.0.0.1:9042:9042 -i -t scylladb/scylla\n",
    "\n",
    "or: \n",
    "\n",
    "$ docker run -p 127.0.0.1:9042:9042 -d cassandra"
   ]
  },
  {
   "cell_type": "markdown",
   "metadata": {},
   "source": [
    "# Init"
   ]
  },
  {
   "cell_type": "code",
   "execution_count": 151,
   "metadata": {
    "collapsed": false
   },
   "outputs": [],
   "source": [
    "from cassandra.cluster import Cluster\n",
    "from cassandra.util import uuid_from_time\n",
    "from datetime import datetime"
   ]
  },
  {
   "cell_type": "code",
   "execution_count": 152,
   "metadata": {
    "collapsed": false
   },
   "outputs": [],
   "source": [
    "cluster = Cluster(['127.0.0.1'], port=9042, protocol_version=3)"
   ]
  },
  {
   "cell_type": "code",
   "execution_count": 153,
   "metadata": {
    "collapsed": false
   },
   "outputs": [],
   "source": [
    "session = cluster.connect()"
   ]
  },
  {
   "cell_type": "code",
   "execution_count": 154,
   "metadata": {
    "collapsed": false
   },
   "outputs": [
    {
     "data": {
      "text/plain": [
       "u'Test Cluster'"
      ]
     },
     "execution_count": 154,
     "metadata": {},
     "output_type": "execute_result"
    }
   ],
   "source": [
    "cluster.metadata.cluster_name\n"
   ]
  },
  {
   "cell_type": "code",
   "execution_count": 155,
   "metadata": {
    "collapsed": false
   },
   "outputs": [
    {
     "data": {
      "text/plain": [
       "[<Host: 127.0.0.1 datacenter1>]"
      ]
     },
     "execution_count": 155,
     "metadata": {},
     "output_type": "execute_result"
    }
   ],
   "source": [
    "cluster.metadata.all_hosts()"
   ]
  },
  {
   "cell_type": "code",
   "execution_count": 156,
   "metadata": {
    "collapsed": false
   },
   "outputs": [
    {
     "data": {
      "text/plain": [
       "<cassandra.cluster.ResultSet at 0x2572c90>"
      ]
     },
     "execution_count": 156,
     "metadata": {},
     "output_type": "execute_result"
    }
   ],
   "source": [
    "session.execute(\"DROP KEYSPACE glances\")"
   ]
  },
  {
   "cell_type": "code",
   "execution_count": 157,
   "metadata": {
    "collapsed": false
   },
   "outputs": [
    {
     "data": {
      "text/plain": [
       "<cassandra.cluster.ResultSet at 0x25df950>"
      ]
     },
     "execution_count": 157,
     "metadata": {},
     "output_type": "execute_result"
    }
   ],
   "source": [
    "session.execute(\"CREATE KEYSPACE glances WITH replication = { 'class': 'SimpleStrategy', 'replication_factor': '2' }\")"
   ]
  },
  {
   "cell_type": "code",
   "execution_count": 158,
   "metadata": {
    "collapsed": false
   },
   "outputs": [],
   "source": [
    "session.set_keyspace('glances')"
   ]
  },
  {
   "cell_type": "code",
   "execution_count": 127,
   "metadata": {
    "collapsed": false
   },
   "outputs": [],
   "source": [
    "# Works with Scylla but not Cassandra...\n",
    "#keyspaces = session.execute(\"SELECT * FROM system.schema_keyspaces\")\n",
    "#[k.keyspace_name for k in keyspaces]"
   ]
  },
  {
   "cell_type": "markdown",
   "metadata": {},
   "source": [
    "# First data model"
   ]
  },
  {
   "cell_type": "code",
   "execution_count": 94,
   "metadata": {
    "collapsed": false
   },
   "outputs": [
    {
     "ename": "OperationTimedOut",
     "evalue": "errors={'127.0.0.1': 'Client request timeout. See Session.execute[_async](timeout)'}, last_host=127.0.0.1",
     "output_type": "error",
     "traceback": [
      "\u001b[1;31m---------------------------------------------------------------------------\u001b[0m",
      "\u001b[1;31mOperationTimedOut\u001b[0m                         Traceback (most recent call last)",
      "\u001b[1;32m<ipython-input-94-7589db73fbfe>\u001b[0m in \u001b[0;36m<module>\u001b[1;34m()\u001b[0m\n\u001b[1;32m----> 1\u001b[1;33m \u001b[0msession\u001b[0m\u001b[1;33m.\u001b[0m\u001b[0mexecute\u001b[0m\u001b[1;33m(\u001b[0m\u001b[1;34m\"CREATE TABLE cpu (hostname text, time timeuuid, stat map<text,float>, PRIMARY KEY (hostname, time))\"\u001b[0m\u001b[1;33m)\u001b[0m\u001b[1;33m\u001b[0m\u001b[0m\n\u001b[0m",
      "\u001b[1;32m/usr/lib64/python2.7/site-packages/cassandra/cluster.so\u001b[0m in \u001b[0;36mcassandra.cluster.Session.execute (cassandra/cluster.c:28532)\u001b[1;34m()\u001b[0m\n",
      "\u001b[1;32m/usr/lib64/python2.7/site-packages/cassandra/cluster.so\u001b[0m in \u001b[0;36mcassandra.cluster.ResponseFuture.result (cassandra/cluster.c:62978)\u001b[1;34m()\u001b[0m\n",
      "\u001b[1;31mOperationTimedOut\u001b[0m: errors={'127.0.0.1': 'Client request timeout. See Session.execute[_async](timeout)'}, last_host=127.0.0.1"
     ]
    }
   ],
   "source": [
    "session.execute(\"CREATE TABLE cpu (hostname text, time timeuuid, stat map<text,float>, PRIMARY KEY (hostname, time))\")"
   ]
  },
  {
   "cell_type": "code",
   "execution_count": 79,
   "metadata": {
    "collapsed": true
   },
   "outputs": [],
   "source": [
    "tuuid = uuid_from_time(datetime.now())"
   ]
  },
  {
   "cell_type": "code",
   "execution_count": 39,
   "metadata": {
    "collapsed": false
   },
   "outputs": [
    {
     "data": {
      "text/plain": [
       "<cassandra.cluster.ResultSet at 0x22e2ad0>"
      ]
     },
     "execution_count": 39,
     "metadata": {},
     "output_type": "execute_result"
    }
   ],
   "source": [
    "session.execute(\n",
    "    \"\"\"\n",
    "    INSERT INTO cpu (hostname, time, stat)\n",
    "    VALUES (%s, %s, %s)\n",
    "    \"\"\",\n",
    "    (\"localhost\", tuuid, {\"user\": 30, \"system\": 31})\n",
    ")"
   ]
  },
  {
   "cell_type": "code",
   "execution_count": 40,
   "metadata": {
    "collapsed": false
   },
   "outputs": [
    {
     "name": "stdout",
     "output_type": "stream",
     "text": [
      "Row(hostname=u'localhost', time=UUID('124732f4-2d88-11e6-9094-0826e0b87285'), stat=OrderedMapSerializedKey([(u'system', u'31'), (u'user', u'30')]))\n"
     ]
    }
   ],
   "source": [
    "res = session.execute(\n",
    "    \"\"\"\n",
    "    SELECT * FROM cpu\n",
    "    \"\"\"\n",
    ")\n",
    "for r in res:\n",
    "    print(r)"
   ]
  },
  {
   "cell_type": "code",
   "execution_count": 44,
   "metadata": {
    "collapsed": false
   },
   "outputs": [
    {
     "data": {
      "text/plain": [
       "u'30'"
      ]
     },
     "execution_count": 44,
     "metadata": {},
     "output_type": "execute_result"
    }
   ],
   "source": [
    "r.stat['user']"
   ]
  },
  {
   "cell_type": "markdown",
   "metadata": {},
   "source": [
    "# Second data model"
   ]
  },
  {
   "cell_type": "code",
   "execution_count": 159,
   "metadata": {
    "collapsed": false
   },
   "outputs": [
    {
     "data": {
      "text/plain": [
       "<cassandra.cluster.ResultSet at 0x252dd90>"
      ]
     },
     "execution_count": 159,
     "metadata": {},
     "output_type": "execute_result"
    }
   ],
   "source": [
    "session.execute(\"CREATE TABLE localhost (plugin text, time timeuuid, stat map<text,float>, PRIMARY KEY (plugin, time))\")"
   ]
  },
  {
   "cell_type": "code",
   "execution_count": 160,
   "metadata": {
    "collapsed": true
   },
   "outputs": [],
   "source": [
    "tuuid = uuid_from_time(datetime.now())"
   ]
  },
  {
   "cell_type": "code",
   "execution_count": 162,
   "metadata": {
    "collapsed": false
   },
   "outputs": [
    {
     "data": {
      "text/plain": [
       "<cassandra.cluster.ResultSet at 0x24ae350>"
      ]
     },
     "execution_count": 162,
     "metadata": {},
     "output_type": "execute_result"
    }
   ],
   "source": [
    "session.execute(\n",
    "    \"\"\"\n",
    "    INSERT INTO localhost (plugin, time, stat)\n",
    "    VALUES (%s, %s, %s)\n",
    "    \"\"\",\n",
    "    (\"cpu\", tuuid, {\"user\": 30, \"system\": 31})\n",
    ")"
   ]
  },
  {
   "cell_type": "code",
   "execution_count": 164,
   "metadata": {
    "collapsed": false
   },
   "outputs": [
    {
     "name": "stdout",
     "output_type": "stream",
     "text": [
      "Row(plugin=u'load', time=UUID('952072ce-2e61-11e6-8015-be68a792ca4e'), stat=OrderedMapSerializedKey([(u'cpucore', 4.0), (u'history_size', 28800.0), (u'load_careful', 0.699999988079071), (u'load_critical', 5.0), (u'load_warning', 1.0), (u'min1', 0.25999999046325684), (u'min15', 0.3100000023841858), (u'min5', 0.3400000035762787)]))\n",
      "Row(plugin=u'load', time=UUID('9705224c-2e61-11e6-a88d-988e2b526833'), stat=OrderedMapSerializedKey([(u'cpucore', 4.0), (u'history_size', 28800.0), (u'load_careful', 0.699999988079071), (u'load_critical', 5.0), (u'load_warning', 1.0), (u'min1', 0.23999999463558197), (u'min15', 0.3100000023841858), (u'min5', 0.3400000035762787)]))\n",
      "Row(plugin=u'load', time=UUID('98e95664-2e61-11e6-9269-27a55f2a4f13'), stat=OrderedMapSerializedKey([(u'cpucore', 4.0), (u'history_size', 28800.0), (u'load_careful', 0.699999988079071), (u'load_critical', 5.0), (u'load_warning', 1.0), (u'min1', 0.23999999463558197), (u'min15', 0.3100000023841858), (u'min5', 0.3400000035762787)]))\n",
      "Row(plugin=u'load', time=UUID('9acd9f1c-2e61-11e6-aa51-20a8b0f83c57'), stat=OrderedMapSerializedKey([(u'cpucore', 4.0), (u'history_size', 28800.0), (u'load_careful', 0.699999988079071), (u'load_critical', 5.0), (u'load_warning', 1.0), (u'min1', 0.2199999988079071), (u'min15', 0.3100000023841858), (u'min5', 0.33000001311302185)]))\n",
      "Row(plugin=u'load', time=UUID('9cb1218c-2e61-11e6-a48f-6cab6bb57811'), stat=OrderedMapSerializedKey([(u'cpucore', 4.0), (u'history_size', 28800.0), (u'load_careful', 0.699999988079071), (u'load_critical', 5.0), (u'load_warning', 1.0), (u'min1', 0.2199999988079071), (u'min15', 0.3100000023841858), (u'min5', 0.33000001311302185)]))\n",
      "Row(plugin=u'load', time=UUID('9e95f64e-2e61-11e6-88a3-ec0db86f1aa5'), stat=OrderedMapSerializedKey([(u'cpucore', 4.0), (u'history_size', 28800.0), (u'load_careful', 0.699999988079071), (u'load_critical', 5.0), (u'load_warning', 1.0), (u'min1', 0.28999999165534973), (u'min15', 0.3100000023841858), (u'min5', 0.3400000035762787)]))\n",
      "Row(plugin=u'processcount', time=UUID('952430b2-2e61-11e6-abec-93b563ccf7c8'), stat=OrderedMapSerializedKey([(u'history_size', 28800.0), (u'running', 1.0), (u'sleeping', 265.0), (u'thread', 772.0), (u'total', 266.0)]))\n",
      "Row(plugin=u'processcount', time=UUID('9708606a-2e61-11e6-8c13-8e2180e1aa3a'), stat=OrderedMapSerializedKey([(u'history_size', 28800.0), (u'running', 1.0), (u'sleeping', 265.0), (u'thread', 771.0), (u'total', 266.0)]))\n",
      "Row(plugin=u'processcount', time=UUID('98ee1c12-2e61-11e6-bec8-87f597ae0465'), stat=OrderedMapSerializedKey([(u'history_size', 28800.0), (u'running', 1.0), (u'sleeping', 265.0), (u'thread', 772.0), (u'total', 266.0)]))\n",
      "Row(plugin=u'processcount', time=UUID('9ad0cffc-2e61-11e6-a5ca-9de3d031081f'), stat=OrderedMapSerializedKey([(u'history_size', 28800.0), (u'running', 2.0), (u'sleeping', 264.0), (u'thread', 772.0), (u'total', 266.0)]))\n",
      "Row(plugin=u'processcount', time=UUID('9cb4e6dc-2e61-11e6-8487-2f94b5668581'), stat=OrderedMapSerializedKey([(u'history_size', 28800.0), (u'running', 1.0), (u'sleeping', 265.0), (u'thread', 768.0), (u'total', 266.0)]))\n",
      "Row(plugin=u'processcount', time=UUID('9e997350-2e61-11e6-a1e9-a8b4b958b25d'), stat=OrderedMapSerializedKey([(u'history_size', 28800.0), (u'running', 1.0), (u'sleeping', 265.0), (u'thread', 768.0), (u'total', 266.0)]))\n",
      "Row(plugin=u'cpu', time=UUID('76423c7a-2e61-11e6-856f-8a88ae458229'), stat=OrderedMapSerializedKey([(u'system', 31.0), (u'user', 30.0)]))\n",
      "Row(plugin=u'cpu', time=UUID('95246a64-2e61-11e6-84f9-057aca6c5157'), stat=OrderedMapSerializedKey([(u'cpu_ctx_switches_careful', 10000.0), (u'cpu_ctx_switches_critical', 14000.0), (u'cpu_ctx_switches_warning', 12000.0), (u'cpu_iowait_careful', 20.0), (u'cpu_iowait_critical', 25.0), (u'cpu_iowait_warning', 22.5), (u'cpu_steal_careful', 50.0), (u'cpu_steal_critical', 90.0), (u'cpu_steal_warning', 70.0), (u'cpu_system_careful', 50.0), (u'cpu_system_critical', 90.0), (u'cpu_system_warning', 70.0), (u'cpu_user_careful', 50.0), (u'cpu_user_critical', 90.0), (u'cpu_user_warning', 70.0), (u'cpucore', 4.0), (u'ctx_switches', 826.0), (u'guest', 0.0), (u'guest_nice', 0.0), (u'history_size', 28800.0), (u'idle', 69.5), (u'interrupts', 342.0), (u'iowait', 1.7000000476837158), (u'irq', 0.0), (u'nice', 0.0), (u'soft_interrupts', 380.0), (u'softirq', 0.0), (u'steal', 0.0), (u'syscalls', 0.0), (u'system', 10.199999809265137), (u'time_since_update', 0.14588499069213867), (u'total', 34.099998474121094), (u'user', 18.600000381469727)]))\n",
      "Row(plugin=u'cpu', time=UUID('9708a52a-2e61-11e6-9034-7591e488315c'), stat=OrderedMapSerializedKey([(u'cpu_ctx_switches_careful', 10000.0), (u'cpu_ctx_switches_critical', 14000.0), (u'cpu_ctx_switches_warning', 12000.0), (u'cpu_iowait_careful', 20.0), (u'cpu_iowait_critical', 25.0), (u'cpu_iowait_warning', 22.5), (u'cpu_steal_careful', 50.0), (u'cpu_steal_critical', 90.0), (u'cpu_steal_warning', 70.0), (u'cpu_system_careful', 50.0), (u'cpu_system_critical', 90.0), (u'cpu_system_warning', 70.0), (u'cpu_user_careful', 50.0), (u'cpu_user_critical', 90.0), (u'cpu_user_warning', 70.0), (u'cpucore', 4.0), (u'ctx_switches', 21937.0), (u'guest', 0.0), (u'guest_nice', 0.0), (u'history_size', 28800.0), (u'idle', 91.5), (u'interrupts', 4657.0), (u'iowait', 0.5), (u'irq', 0.0), (u'nice', 0.0), (u'soft_interrupts', 2466.0), (u'softirq', 0.10000000149011612), (u'steal', 0.0), (u'syscalls', 0.0), (u'system', 1.2999999523162842), (u'time_since_update', 3.191663980484009), (u'total', 10.0), (u'user', 6.5)]))\n",
      "Row(plugin=u'cpu', time=UUID('98ee5d1c-2e61-11e6-b1e1-9180c1061e45'), stat=OrderedMapSerializedKey([(u'cpu_ctx_switches_careful', 10000.0), (u'cpu_ctx_switches_critical', 14000.0), (u'cpu_ctx_switches_warning', 12000.0), (u'cpu_iowait_careful', 20.0), (u'cpu_iowait_critical', 25.0), (u'cpu_iowait_warning', 22.5), (u'cpu_steal_careful', 50.0), (u'cpu_steal_critical', 90.0), (u'cpu_steal_warning', 70.0), (u'cpu_system_careful', 50.0), (u'cpu_system_critical', 90.0), (u'cpu_system_warning', 70.0), (u'cpu_user_careful', 50.0), (u'cpu_user_critical', 90.0), (u'cpu_user_warning', 70.0), (u'cpucore', 4.0), (u'ctx_switches', 18254.0), (u'guest', 0.0), (u'guest_nice', 0.0), (u'history_size', 28800.0), (u'idle', 84.69999694824219), (u'interrupts', 8458.0), (u'iowait', 0.30000001192092896), (u'irq', 0.0), (u'nice', 0.0), (u'soft_interrupts', 3077.0), (u'softirq', 0.0), (u'steal', 0.0), (u'syscalls', 0.0), (u'system', 1.600000023841858), (u'time_since_update', 3.1762030124664307), (u'total', 15.199999809265137), (u'user', 13.399999618530273)]))\n",
      "Row(plugin=u'cpu', time=UUID('9ad125c4-2e61-11e6-8273-1ef812e09c25'), stat=OrderedMapSerializedKey([(u'cpu_ctx_switches_careful', 10000.0), (u'cpu_ctx_switches_critical', 14000.0), (u'cpu_ctx_switches_warning', 12000.0), (u'cpu_iowait_careful', 20.0), (u'cpu_iowait_critical', 25.0), (u'cpu_iowait_warning', 22.5), (u'cpu_steal_careful', 50.0), (u'cpu_steal_critical', 90.0), (u'cpu_steal_warning', 70.0), (u'cpu_system_careful', 50.0), (u'cpu_system_critical', 90.0), (u'cpu_system_warning', 70.0), (u'cpu_user_careful', 50.0), (u'cpu_user_critical', 90.0), (u'cpu_user_warning', 70.0), (u'cpucore', 4.0), (u'ctx_switches', 14500.0), (u'guest', 0.0), (u'guest_nice', 0.0), (u'history_size', 28800.0), (u'idle', 96.5999984741211), (u'interrupts', 3378.0), (u'iowait', 0.20000000298023224), (u'irq', 0.0), (u'nice', 0.0), (u'soft_interrupts', 1159.0), (u'softirq', 0.0), (u'steal', 0.0), (u'syscalls', 0.0), (u'system', 0.800000011920929), (u'time_since_update', 3.1724510192871094), (u'total', 3.5), (u'user', 2.4000000953674316)]))\n",
      "Row(plugin=u'cpu', time=UUID('9cb51c74-2e61-11e6-9e52-f259f9da3cc5'), stat=OrderedMapSerializedKey([(u'cpu_ctx_switches_careful', 10000.0), (u'cpu_ctx_switches_critical', 14000.0), (u'cpu_ctx_switches_warning', 12000.0), (u'cpu_iowait_careful', 20.0), (u'cpu_iowait_critical', 25.0), (u'cpu_iowait_warning', 22.5), (u'cpu_steal_careful', 50.0), (u'cpu_steal_critical', 90.0), (u'cpu_steal_warning', 70.0), (u'cpu_system_careful', 50.0), (u'cpu_system_critical', 90.0), (u'cpu_system_warning', 70.0), (u'cpu_user_careful', 50.0), (u'cpu_user_critical', 90.0), (u'cpu_user_warning', 70.0), (u'cpucore', 4.0), (u'ctx_switches', 17173.0), (u'guest', 0.0), (u'guest_nice', 0.0), (u'history_size', 28800.0), (u'idle', 94.19999694824219), (u'interrupts', 3993.0), (u'iowait', 0.699999988079071), (u'irq', 0.0), (u'nice', 0.0), (u'soft_interrupts', 1600.0), (u'softirq', 0.0), (u'steal', 0.0), (u'syscalls', 0.0), (u'system', 1.0), (u'time_since_update', 3.1690921783447266), (u'total', 6.099999904632568), (u'user', 4.0)]))\n",
      "Row(plugin=u'cpu', time=UUID('9e99ae7e-2e61-11e6-ad1d-f0959a84a7e6'), stat=OrderedMapSerializedKey([(u'cpu_ctx_switches_careful', 10000.0), (u'cpu_ctx_switches_critical', 14000.0), (u'cpu_ctx_switches_warning', 12000.0), (u'cpu_iowait_careful', 20.0), (u'cpu_iowait_critical', 25.0), (u'cpu_iowait_warning', 22.5), (u'cpu_steal_careful', 50.0), (u'cpu_steal_critical', 90.0), (u'cpu_steal_warning', 70.0), (u'cpu_system_careful', 50.0), (u'cpu_system_critical', 90.0), (u'cpu_system_warning', 70.0), (u'cpu_user_careful', 50.0), (u'cpu_user_critical', 90.0), (u'cpu_user_warning', 70.0), (u'cpucore', 4.0), (u'ctx_switches', 21057.0), (u'guest', 0.0), (u'guest_nice', 0.0), (u'history_size', 28800.0), (u'idle', 84.69999694824219), (u'interrupts', 8353.0), (u'iowait', 0.4000000059604645), (u'irq', 0.0), (u'nice', 0.0), (u'soft_interrupts', 3177.0), (u'softirq', 0.0), (u'steal', 0.0), (u'syscalls', 0.0), (u'system', 1.399999976158142), (u'time_since_update', 3.1766068935394287), (u'total', 15.0), (u'user', 13.399999618530273)]))\n",
      "Row(plugin=u'mem', time=UUID('95236fec-2e61-11e6-a3b2-b35b8e7cc755'), stat=OrderedMapSerializedKey([(u'active', 5428060160.0), (u'available', 1797885952.0), (u'buffers', 2551808.0), (u'cached', 1583988736.0), (u'free', 1797885952.0), (u'history_size', 28800.0), (u'inactive', 1929183232.0), (u'mem_careful', 50.0), (u'mem_critical', 90.0), (u'mem_warning', 70.0), (u'percent', 77.69999694824219), (u'shared', 594341888.0), (u'total', 8077144064.0), (u'used', 6279258112.0)]))\n",
      "Row(plugin=u'mem', time=UUID('9707a382-2e61-11e6-98ad-d46049b8c1ef'), stat=OrderedMapSerializedKey([(u'active', 5444026368.0), (u'available', 1782333440.0), (u'buffers', 2551808.0), (u'cached', 1585315840.0), (u'free', 1782333440.0), (u'history_size', 28800.0), (u'inactive', 1930514432.0), (u'mem_careful', 50.0), (u'mem_critical', 90.0), (u'mem_warning', 70.0), (u'percent', 77.9000015258789), (u'shared', 595386368.0), (u'total', 8077144064.0), (u'used', 6294810624.0)]))\n",
      "Row(plugin=u'mem', time=UUID('98ec62aa-2e61-11e6-bfcc-558d610b8393'), stat=OrderedMapSerializedKey([(u'active', 5362163712.0), (u'available', 1865003008.0), (u'buffers', 2551808.0), (u'cached', 1586089984.0), (u'free', 1865003008.0), (u'history_size', 28800.0), (u'inactive', 1931280384.0), (u'mem_careful', 50.0), (u'mem_critical', 90.0), (u'mem_warning', 70.0), (u'percent', 76.9000015258789), (u'shared', 596152320.0), (u'total', 8077144064.0), (u'used', 6212141056.0)]))\n",
      "Row(plugin=u'mem', time=UUID('9ad0211a-2e61-11e6-b425-cd91c2a25c88'), stat=OrderedMapSerializedKey([(u'active', 5362094080.0), (u'available', 1865207808.0), (u'buffers', 2551808.0), (u'cached', 1586053120.0), (u'free', 1865207808.0), (u'history_size', 28800.0), (u'inactive', 1931239424.0), (u'mem_careful', 50.0), (u'mem_critical', 90.0), (u'mem_warning', 70.0), (u'percent', 76.9000015258789), (u'shared', 596119552.0), (u'total', 8077144064.0), (u'used', 6211936256.0)]))\n",
      "Row(plugin=u'mem', time=UUID('9cb47292-2e61-11e6-923d-0c61d28c5e49'), stat=OrderedMapSerializedKey([(u'active', 5362393088.0), (u'available', 1864953856.0), (u'buffers', 2560000.0), (u'cached', 1586880512.0), (u'free', 1864953856.0), (u'history_size', 28800.0), (u'inactive', 1932046336.0), (u'mem_careful', 50.0), (u'mem_critical', 90.0), (u'mem_warning', 70.0), (u'percent', 76.9000015258789), (u'shared', 596942848.0), (u'total', 8077144064.0), (u'used', 6212190208.0)]))\n",
      "Row(plugin=u'mem', time=UUID('9e98ed4a-2e61-11e6-9b98-13b51068dbf7'), stat=OrderedMapSerializedKey([(u'active', 5345095680.0), (u'available', 1881444352.0), (u'buffers', 2560000.0), (u'cached', 1587601408.0), (u'free', 1881444352.0), (u'history_size', 28800.0), (u'inactive', 1932767232.0), (u'mem_careful', 50.0), (u'mem_critical', 90.0), (u'mem_warning', 70.0), (u'percent', 76.69999694824219), (u'shared', 597663744.0), (u'total', 8077144064.0), (u'used', 6195699712.0)]))\n",
      "Row(plugin=u'memswap', time=UUID('95218e70-2e61-11e6-93bc-9521e8027b12'), stat=OrderedMapSerializedKey([(u'free', 16717524992.0), (u'history_size', 28800.0), (u'memswap_careful', 50.0), (u'memswap_critical', 90.0), (u'memswap_warning', 70.0), (u'percent', 0.4000000059604645), (u'sin', 20828160.0), (u'sout', 102391808.0), (u'total', 16777211904.0), (u'used', 59686912.0)]))\n",
      "Row(plugin=u'memswap', time=UUID('970633f8-2e61-11e6-9a87-73218e73c2cd'), stat=OrderedMapSerializedKey([(u'free', 16717524992.0), (u'history_size', 28800.0), (u'memswap_careful', 50.0), (u'memswap_critical', 90.0), (u'memswap_warning', 70.0), (u'percent', 0.4000000059604645), (u'sin', 20828160.0), (u'sout', 102391808.0), (u'total', 16777211904.0), (u'used', 59686912.0)]))\n",
      "Row(plugin=u'memswap', time=UUID('98eac1de-2e61-11e6-b989-711e5a692fd1'), stat=OrderedMapSerializedKey([(u'free', 16717524992.0), (u'history_size', 28800.0), (u'memswap_careful', 50.0), (u'memswap_critical', 90.0), (u'memswap_warning', 70.0), (u'percent', 0.4000000059604645), (u'sin', 20828160.0), (u'sout', 102391808.0), (u'total', 16777211904.0), (u'used', 59686912.0)]))\n",
      "Row(plugin=u'memswap', time=UUID('9aceabf0-2e61-11e6-937e-ae1d0b758609'), stat=OrderedMapSerializedKey([(u'free', 16717524992.0), (u'history_size', 28800.0), (u'memswap_careful', 50.0), (u'memswap_critical', 90.0), (u'memswap_warning', 70.0), (u'percent', 0.4000000059604645), (u'sin', 20828160.0), (u'sout', 102391808.0), (u'total', 16777211904.0), (u'used', 59686912.0)]))\n",
      "Row(plugin=u'memswap', time=UUID('9cb29454-2e61-11e6-8b08-9be0a0149440'), stat=OrderedMapSerializedKey([(u'free', 16717524992.0), (u'history_size', 28800.0), (u'memswap_careful', 50.0), (u'memswap_critical', 90.0), (u'memswap_warning', 70.0), (u'percent', 0.4000000059604645), (u'sin', 20828160.0), (u'sout', 102391808.0), (u'total', 16777211904.0), (u'used', 59686912.0)]))\n",
      "Row(plugin=u'memswap', time=UUID('9e97505c-2e61-11e6-8ee5-168531c280e2'), stat=OrderedMapSerializedKey([(u'free', 16717524992.0), (u'history_size', 28800.0), (u'memswap_careful', 50.0), (u'memswap_critical', 90.0), (u'memswap_warning', 70.0), (u'percent', 0.4000000059604645), (u'sin', 20828160.0), (u'sout', 102391808.0), (u'total', 16777211904.0), (u'used', 59686912.0)]))\n"
     ]
    }
   ],
   "source": [
    "res = session.execute(\n",
    "    \"\"\"\n",
    "    SELECT * FROM localhost\n",
    "    \"\"\"\n",
    ")\n",
    "for r in res:\n",
    "    print(r)"
   ]
  },
  {
   "cell_type": "code",
   "execution_count": 101,
   "metadata": {
    "collapsed": true
   },
   "outputs": [],
   "source": [
    "session.shutdown()\n",
    "cluster.shutdown()"
   ]
  },
  {
   "cell_type": "code",
   "execution_count": null,
   "metadata": {
    "collapsed": true
   },
   "outputs": [],
   "source": []
  }
 ],
 "metadata": {
  "kernelspec": {
   "display_name": "Python 2",
   "language": "python",
   "name": "python2"
  },
  "language_info": {
   "codemirror_mode": {
    "name": "ipython",
    "version": 2
   },
   "file_extension": ".py",
   "mimetype": "text/x-python",
   "name": "python",
   "nbconvert_exporter": "python",
   "pygments_lexer": "ipython2",
   "version": "2.7.5"
  }
 },
 "nbformat": 4,
 "nbformat_minor": 0
}
