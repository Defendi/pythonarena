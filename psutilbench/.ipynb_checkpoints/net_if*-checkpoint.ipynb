{
 "metadata": {
  "name": ""
 },
 "nbformat": 3,
 "nbformat_minor": 0,
 "worksheets": [
  {
   "cells": [
    {
     "cell_type": "code",
     "collapsed": false,
     "input": [
      "import psutil"
     ],
     "language": "python",
     "metadata": {},
     "outputs": [],
     "prompt_number": 1
    },
    {
     "cell_type": "code",
     "collapsed": false,
     "input": [
      "net_if_addrs = psutil.net_if_addrs()"
     ],
     "language": "python",
     "metadata": {},
     "outputs": [],
     "prompt_number": 6
    },
    {
     "cell_type": "code",
     "collapsed": false,
     "input": [
      "net_if_addrs"
     ],
     "language": "python",
     "metadata": {},
     "outputs": [
      {
       "metadata": {},
       "output_type": "pyout",
       "prompt_number": 7,
       "text": [
        "{'docker0': [snic(family=2, address='172.17.42.1', netmask='255.255.0.0', broadcast='172.17.42.1'),\n",
        "  snic(family=17, address='56:84:7a:fe:97:99', netmask=None, broadcast='ff:ff:ff:ff:ff:ff')],\n",
        " 'lo': [snic(family=2, address='127.0.0.1', netmask='255.0.0.0', broadcast='127.0.0.1'),\n",
        "  snic(family=10, address='::1', netmask='ffff:ffff:ffff:ffff:ffff:ffff:ffff:ffff', broadcast=None),\n",
        "  snic(family=17, address='00:00:00:00:00:00', netmask=None, broadcast='00:00:00:00:00:00')],\n",
        " 'wlan0': [snic(family=2, address='10.201.7.83', netmask='255.255.252.0', broadcast='10.201.7.255'),\n",
        "  snic(family=10, address='fe80::7e7a:91ff:fe91:4b28%wlan0', netmask='ffff:ffff:ffff:ffff::', broadcast=None),\n",
        "  snic(family=17, address='7c:7a:91:91:4b:28', netmask=None, broadcast='ff:ff:ff:ff:ff:ff')]}"
       ]
      }
     ],
     "prompt_number": 7
    },
    {
     "cell_type": "code",
     "collapsed": false,
     "input": [
      "net_if_stats = psutil.net_if_stats()"
     ],
     "language": "python",
     "metadata": {},
     "outputs": [],
     "prompt_number": 8
    },
    {
     "cell_type": "code",
     "collapsed": false,
     "input": [
      "net_if_stats"
     ],
     "language": "python",
     "metadata": {},
     "outputs": [
      {
       "metadata": {},
       "output_type": "pyout",
       "prompt_number": 9,
       "text": [
        "{'docker0': snicstats(isup=True, duplex=<NicDuplex.NIC_DUPLEX_UNKNOWN: 0>, speed=0, mtu=1500),\n",
        " 'lo': snicstats(isup=True, duplex=<NicDuplex.NIC_DUPLEX_UNKNOWN: 0>, speed=0, mtu=65536),\n",
        " 'wlan0': snicstats(isup=True, duplex=<NicDuplex.NIC_DUPLEX_UNKNOWN: 0>, speed=0, mtu=1500)}"
       ]
      }
     ],
     "prompt_number": 9
    },
    {
     "cell_type": "code",
     "collapsed": false,
     "input": [],
     "language": "python",
     "metadata": {},
     "outputs": []
    }
   ],
   "metadata": {}
  }
 ]
}